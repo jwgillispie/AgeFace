{
 "cells": [
  {
   "cell_type": "code",
   "execution_count": 1,
   "metadata": {},
   "outputs": [],
   "source": [
    "import matplotlib.pyplot as plt \n",
    "import cv2 as cv\n",
    "from PIL import Image\n",
    "import numpy as np \n",
    "import glob\n",
    "import os\n",
    "import random \n",
    "import shutil"
   ]
  },
  {
   "cell_type": "code",
   "execution_count": 2,
   "metadata": {},
   "outputs": [],
   "source": [
    "def resize_images(): \n",
    "    \n",
    "    img_list = []\n",
    "    adapted_list = []\n",
    "    # get all image path \n",
    "    all_images = glob.glob(\"./all_raw_faces/*.jpg\")\n",
    "    all_images += glob.glob(\"./asian_faces/*.jpg\")\n",
    "    # random.shuffle(all_images)\n",
    " \n",
    "    \n",
    "    prep_path = \"./preprocessed/\"\n",
    "    \n",
    "    if os.path.exists(prep_path) == False:\n",
    "        os.mkdir(prep_path)\n",
    "    else:\n",
    "        # delete it \n",
    "        shutil.rmtree(prep_path)\n",
    "        os.mkdir(prep_path)\n",
    "            \n",
    "    \n",
    "    # go thru\n",
    "    for index, path_name in enumerate(all_images):\n",
    "        # read image from the glob list \n",
    "        img = cv.imread(path_name, cv.IMREAD_GRAYSCALE)\n",
    "\n",
    "        scale_percent = 130 # percent of original size\n",
    "        width = 224\n",
    "        height = 224\n",
    "        dim = (width, height)\n",
    "\n",
    "        # resize image\n",
    "        resized = cv.resize(img, dim, interpolation = cv.INTER_LINEAR)\n",
    "        img_list.append(resized)\n",
    "        \n",
    "        # now to save\n",
    "        # preprocessed/basename from glob\n",
    "        path_name = os.path.basename(path_name)\n",
    "        \n",
    "        ''' TRY SATURATING/AUGMENTING THE IMAGES \n",
    "            TRY DARKENING/ BRIGHTENING CERTAIN PIXELS \n",
    "            NEED SOME OTHER KINDS OF THRESHOLDING/PREPROCESSING\n",
    "            \n",
    "        '''\n",
    "        # median blur \n",
    "        #med_blur = cv.medianBlur(resized, 3)\n",
    "       \n",
    "        # adapted =cv.adaptiveThreshold(resized, 160, cv.ADAPTIVE_THRESH_MEAN_C, cv.THRESH_BINARY, 7, 2)\n",
    "\n",
    "                                    \n",
    "        #adapted_list.append(adapted)\n",
    "        \n",
    "            \n",
    "        cv.imwrite(prep_path + \"{i}\".format(i = path_name),resized)\n",
    "\n",
    "        \n",
    "    return img_list, adapted_list\n",
    "\n",
    "\n",
    "il, al = resize_images()  \n"
   ]
  }
 ],
 "metadata": {
  "kernelspec": {
   "display_name": "base",
   "language": "python",
   "name": "python3"
  },
  "language_info": {
   "codemirror_mode": {
    "name": "ipython",
    "version": 3
   },
   "file_extension": ".py",
   "mimetype": "text/x-python",
   "name": "python",
   "nbconvert_exporter": "python",
   "pygments_lexer": "ipython3",
   "version": "3.9.13 (main, Aug 25 2022, 23:51:50) [MSC v.1916 64 bit (AMD64)]"
  },
  "orig_nbformat": 4,
  "vscode": {
   "interpreter": {
    "hash": "a68f03d5b51d71e9618ac169d65e588645e27f9fde4b6854514898c829210307"
   }
  }
 },
 "nbformat": 4,
 "nbformat_minor": 2
}
