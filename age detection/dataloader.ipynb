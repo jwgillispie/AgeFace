{
 "cells": [
  {
   "cell_type": "code",
   "execution_count": 9,
   "metadata": {},
   "outputs": [
    {
     "data": {
      "text/plain": [
       "<matplotlib.pyplot._IonContext at 0x1e5d06e1e20>"
      ]
     },
     "execution_count": 9,
     "metadata": {},
     "output_type": "execute_result"
    }
   ],
   "source": [
    "# Continue with regular imports\n",
    "import torch\n",
    "import torchvision\n",
    "import torch.nn as nn\n",
    "import torch.optim as optim\n",
    "from torch.optim import lr_scheduler\n",
    "import torch.backends.cudnn as cudnn\n",
    "import numpy as np\n",
    "import torchvision\n",
    "from torchvision import datasets, models, transforms\n",
    "import matplotlib.pyplot as plt\n",
    "import time\n",
    "import os\n",
    "import copy\n",
    "import random\n",
    "\n",
    "import cv2 as cv\n",
    "import re\n",
    "import glob\n",
    "import os\n",
    "\n",
    "from PIL import Image \n",
    "import cv2 as cv\n",
    "import shutil\n",
    "\n",
    "cudnn.benchmark = True\n",
    "plt.ion()   # interactive mode"
   ]
  },
  {
   "cell_type": "code",
   "execution_count": 10,
   "metadata": {},
   "outputs": [],
   "source": [
    "\n",
    "def partition_files(file_path):\n",
    "    all_images = glob.glob(file_path)\n",
    "\n",
    "    # now get the first section of each filename which indicates age \n",
    "    # add all of the first things to a list to store a list of all the distinct ages \n",
    "    # get the base name of the file so that the folder containing images is not in the fucking way\n",
    "    dir_names = []\n",
    "    based_paths = []\n",
    "    \n",
    "    for path_name in all_images:\n",
    "        # change path name to the base name, which will just be the image file\n",
    "        path_name = os.path.basename(path_name)\n",
    "        based_paths.append(path_name)\n",
    "        # partition to get the name divvied up\n",
    "        partition = re.split('_+', path_name)\n",
    "        dir_name = partition[0]\n",
    "        # only add each age one time plsss\n",
    "        if dir_name not in dir_names:\n",
    "            dir_names.append(dir_name)\n",
    "    return dir_names, based_paths\n",
    "\n",
    "directory_names, based_paths = partition_files(\"./preprocessed/*.jpg\") "
   ]
  },
  {
   "cell_type": "code",
   "execution_count": 11,
   "metadata": {},
   "outputs": [],
   "source": [
    "# function to partition asian face files \n",
    "import random\n",
    "def partition_asian_faces(file_path):\n",
    "    \n",
    "    based_paths = []\n",
    "    dir_names = []\n",
    "    \n",
    "    all_images = glob.glob(file_path)\n",
    "    for path_name in all_images:\n",
    "        \n",
    "        path_name = os.path.basename(path_name)\n",
    "        based_paths.append(path_name)\n",
    "        # split between A and .jpg \n",
    "        st = path_name.index(\"A\")\n",
    "        end = path_name.index(\".\", st + 1)\n",
    "\n",
    "        partition = path_name[st +1:end]\n",
    "        if partition[0] == \"0\":\n",
    "            partition = partition[1]\n",
    "            \n",
    "        dir_name = partition    \n",
    "        if dir_name not in dir_names:\n",
    "            dir_names.append(dir_name)\n",
    "            \n",
    "    return dir_names, based_paths\n",
    "        \n",
    "asian_directories, asian_based = partition_asian_faces(\"./asian_faces/*.jpg\")  "
   ]
  },
  {
   "cell_type": "code",
   "execution_count": 12,
   "metadata": {},
   "outputs": [],
   "source": [
    "\n",
    "# now that we have a distinct list of the ages we can create a directory from them\n",
    "# each directory will just be named the age we want \n",
    "\n",
    "def populate_dirs(directory_names, based_paths, raw_path = \"./preprocessed/*.jpg\", part_path = \"./partitioned/\"):\n",
    "    # will need this for reading images\n",
    "    all_paths = glob.glob(raw_path)\n",
    "    \n",
    "    # create the main partitioned directory if it is nonexistent\n",
    "    \n",
    "    if os.path.exists(part_path) == False:\n",
    "        os.mkdir(part_path)\n",
    "    else:\n",
    "        # delete it \n",
    "        shutil.rmtree(part_path)\n",
    "        os.mkdir(part_path)\n",
    "    \n",
    "    # create the sub directories if they are not exisitent \n",
    "    for name in directory_names:\n",
    "        path  = part_path + \"{i}\".format(i = name) #eg. ./partitioned/34/\n",
    "        if os.path.exists(path) == False:\n",
    "            os.mkdir(path)\n",
    "            \n",
    "    # for each item in the list of image paths, create a dir with that item as the title \n",
    "    # if the item match the first digits of the file name then add that file to the dir \n",
    "    for index, path in enumerate(based_paths):\n",
    "        # need the first part of the name \n",
    "        partition = re.split(\"_+\", path)\n",
    "        match_case = partition[0] #eg. 34\n",
    "        # now we have broken down each image path into just the age \n",
    "        # if the image path == directory name \n",
    "            # add that image path to that directory \n",
    "        if match_case in directory_names: # eg. if 34 in [34]\n",
    "            # open the image \n",
    "            current_im = cv.imread(all_paths[index]) # open raw image file and store\n",
    "            # save the image in the correct new directory \n",
    "            final_path  = part_path + \"{i}\".format(i = match_case) + \"/\"\n",
    "            cv.imwrite(final_path + \"{i}\".format(i = based_paths[index]), current_im)\n",
    "            \n",
    "populate_dirs(directory_names, based_paths)"
   ]
  },
  {
   "cell_type": "code",
   "execution_count": 13,
   "metadata": {},
   "outputs": [],
   "source": [
    "# function to partition asian face files \n",
    "def partition_asian_faces(file_path):\n",
    "    \n",
    "    based_paths = []\n",
    "    dir_names = []\n",
    "    \n",
    "    all_images = glob.glob(file_path)\n",
    "    for path_name in all_images:\n",
    "        \n",
    "        path_name = os.path.basename(path_name)\n",
    "        based_paths.append(path_name)\n",
    "        # split between A and .jpg \n",
    "        st = path_name.index(\"A\")\n",
    "        end = path_name.index(\".\", st + 1)\n",
    "\n",
    "        partition = path_name[st +1:end]\n",
    "        if partition[0] == \"0\":\n",
    "            partition = partition[1]\n",
    "            \n",
    "        dir_name = partition    \n",
    "        if dir_name not in dir_names:\n",
    "            dir_names.append(dir_name)\n",
    "            \n",
    "    return dir_names, based_paths\n",
    "        \n",
    "asian_directories, asian_based = partition_asian_faces(\"./asian_faces/*.jpg\")  \n",
    "\n",
    "\n",
    "# add the asian base files to the already populated directories \n",
    "def populate_asian_faces(asian_based ,asian_directories, raw_asian_path = \"./asian_faces/*.jpg\", part_path = \"./partitioned/\"):\n",
    "    \n",
    "    all_paths = glob.glob(raw_asian_path)\n",
    "    #create the sub directories if they are not exisitent \n",
    "    for name in asian_directories:\n",
    "        path  = part_path + \"{i}\".format(i = name) #eg. ./partitioned/34/\n",
    "        if os.path.exists(path) == False:\n",
    "            os.mkdir(path)\n",
    "            \n",
    "    # create a path for the asian faces, each \n",
    "    for index, elem in enumerate(asian_based):\n",
    "        st = elem.index(\"A\")\n",
    "        end = elem.index(\".\", st + 1)\n",
    "\n",
    "        partition = elem[st +1:end] \n",
    "        \n",
    "        if partition in asian_directories:\n",
    "            current_image  = cv.imread(all_paths[index])\n",
    "            final_path  = part_path + \"{i}\".format(i = partition) + \"/\"\n",
    "            # cv.imwrite(final_path + \"{i}\".format(i = elem), current_image)\n",
    "            cv.imwrite(final_path + \"{i}\".format(i = elem), current_image)\n",
    "            \n",
    "\n",
    "populate_asian_faces(asian_based, asian_directories)       "
   ]
  },
  {
   "cell_type": "code",
   "execution_count": 14,
   "metadata": {},
   "outputs": [
    {
     "name": "stderr",
     "output_type": "stream",
     "text": [
      "Copying files: 35376 files [00:45, 780.82 files/s] \n"
     ]
    }
   ],
   "source": [
    "import splitfolders\n",
    "\n",
    "prep_path = \"./prepared_data/\"\n",
    "    \n",
    "if os.path.exists(prep_path) == False:\n",
    "    os.mkdir(prep_path)\n",
    "else:\n",
    "    # delete it \n",
    "    shutil.rmtree(prep_path)\n",
    "    os.mkdir(prep_path)\n",
    "# now we can divide up the partitioned folders/ labels into train val and test \n",
    "splitfolders.ratio(\"./partitioned/\", output=\"prepared_data\",\n",
    "    seed=1337, ratio=(.8, .1, .1), group_prefix=None, move=False)"
   ]
  },
  {
   "cell_type": "code",
   "execution_count": 15,
   "metadata": {},
   "outputs": [],
   "source": [
    "def remove_empty_folders(path_abs):\n",
    "    walk = list(os.walk(path_abs))\n",
    "    for path, _, _ in walk[::-1]:\n",
    "        if len(os.listdir(path)) < 5:\n",
    "            shutil.rmtree(path)\n",
    "dir_names = [\"train\", \"test\", \"val\"]        \n",
    "for dirc in dir_names:\n",
    "    remove_empty_folders(\"./prepared_data/{i}/\".format(i = dirc))"
   ]
  }
 ],
 "metadata": {
  "kernelspec": {
   "display_name": "pytorch-gpu",
   "language": "python",
   "name": "python3"
  },
  "language_info": {
   "codemirror_mode": {
    "name": "ipython",
    "version": 3
   },
   "file_extension": ".py",
   "mimetype": "text/x-python",
   "name": "python",
   "nbconvert_exporter": "python",
   "pygments_lexer": "ipython3",
   "version": "3.9.15 (main, Nov 24 2022, 14:39:17) [MSC v.1916 64 bit (AMD64)]"
  },
  "vscode": {
   "interpreter": {
    "hash": "7310d6050fc746ae465606156ebcd8a69d258e597fdac5fea31740d5b5ee0810"
   }
  }
 },
 "nbformat": 4,
 "nbformat_minor": 2
}
